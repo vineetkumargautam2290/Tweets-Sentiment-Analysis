{
  "nbformat": 4,
  "nbformat_minor": 0,
  "metadata": {
    "colab": {
      "provenance": []
    },
    "kernelspec": {
      "name": "python3",
      "display_name": "Python 3"
    },
    "language_info": {
      "name": "python"
    }
  },
  "cells": [
    {
      "cell_type": "code",
      "execution_count": null,
      "metadata": {
        "id": "DQswQ8Bv7Snt"
      },
      "outputs": [],
      "source": [
        "# Importing packages\n",
        "\n",
        "import os\n",
        "import numpy as np\n",
        "import pandas as pd\n",
        "import matplotlib.pyplot as plt\n",
        "import seaborn as sns\n",
        "import re\n",
        "from sklearn.model_selection import train_test_split\n",
        "from sklearn.metrics import confusion_matrix, classification_report, accuracy_score\n",
        "\n",
        "import tensorflow as tf\n",
        "from tensorflow import keras\n",
        "from keras.layers import Dense, SimpleRNN, LSTM, GRU, Embedding\n",
        "from keras.preprocessing.text import Tokenizer\n",
        "from keras.preprocessing.sequence import pad_sequences\n",
        "from keras.models import Sequential, Model\n",
        "\n",
        "import warnings\n",
        "warnings.filterwarnings('ignore')"
      ]
    },
    {
      "cell_type": "code",
      "execution_count": null,
      "metadata": {
        "id": "RmrTgJJ9-yI9"
      },
      "outputs": [],
      "source": [
        "#  Load the dataset from my disk\n",
        "df_train = pd.read_csv(\"/content/tweets_train.csv\")\n",
        "df_test = pd.read_csv('/content/tweets_test.csv')"
      ]
    },
    {
      "cell_type": "code",
      "execution_count": null,
      "metadata": {
        "colab": {
          "base_uri": "https://localhost:8080/"
        },
        "id": "lxnZ8RyaTxzz",
        "outputId": "79086595-a70e-4062-9a4e-bfcde626e790"
      },
      "outputs": [
        {
          "data": {
            "text/plain": [
              "user_name             0\n",
              "user_location       601\n",
              "user_description    221\n",
              "user_created          0\n",
              "user_followers        0\n",
              "user_friends          0\n",
              "user_favourites       0\n",
              "user_verified         0\n",
              "date                  0\n",
              "hashtags            648\n",
              "source                0\n",
              "is_retweet            0\n",
              "clean_text            1\n",
              "dtype: int64"
            ]
          },
          "execution_count": 49,
          "metadata": {},
          "output_type": "execute_result"
        }
      ],
      "source": [
        "df_test.isnull().sum()"
      ]
    },
    {
      "cell_type": "code",
      "execution_count": null,
      "metadata": {
        "colab": {
          "base_uri": "https://localhost:8080/",
          "height": 451
        },
        "id": "VL833R297ap7",
        "outputId": "e4a3a9df-31d7-4ef7-d5df-4f4d48156fef"
      },
      "outputs": [
        {
          "data": {
            "text/html": [
              "\n",
              "  <div id=\"df-f7e1ec0d-d4f2-42bc-9210-929efd8a1aab\" class=\"colab-df-container\">\n",
              "    <div>\n",
              "<style scoped>\n",
              "    .dataframe tbody tr th:only-of-type {\n",
              "        vertical-align: middle;\n",
              "    }\n",
              "\n",
              "    .dataframe tbody tr th {\n",
              "        vertical-align: top;\n",
              "    }\n",
              "\n",
              "    .dataframe thead th {\n",
              "        text-align: right;\n",
              "    }\n",
              "</style>\n",
              "<table border=\"1\" class=\"dataframe\">\n",
              "  <thead>\n",
              "    <tr style=\"text-align: right;\">\n",
              "      <th></th>\n",
              "      <th>user_name</th>\n",
              "      <th>user_location</th>\n",
              "      <th>user_description</th>\n",
              "      <th>user_created</th>\n",
              "      <th>user_followers</th>\n",
              "      <th>user_friends</th>\n",
              "      <th>user_favourites</th>\n",
              "      <th>user_verified</th>\n",
              "      <th>date</th>\n",
              "      <th>hashtags</th>\n",
              "      <th>source</th>\n",
              "      <th>is_retweet</th>\n",
              "      <th>clean_text</th>\n",
              "      <th>Sentiment</th>\n",
              "    </tr>\n",
              "  </thead>\n",
              "  <tbody>\n",
              "    <tr>\n",
              "      <th>0</th>\n",
              "      <td>Romy 👑</td>\n",
              "      <td>Bolton - England</td>\n",
              "      <td>Tables turn, bridges burn, you live and learn.</td>\n",
              "      <td>2009-06-15 09:00:39</td>\n",
              "      <td>525</td>\n",
              "      <td>896</td>\n",
              "      <td>3854</td>\n",
              "      <td>False</td>\n",
              "      <td>2020-09-19 15:19:32</td>\n",
              "      <td>['TheSocialDilemma']</td>\n",
              "      <td>Twitter for Android</td>\n",
              "      <td>False</td>\n",
              "      <td>TheSocialDilemma is an eye opener isn t it ple...</td>\n",
              "      <td>Neutral</td>\n",
              "    </tr>\n",
              "    <tr>\n",
              "      <th>1</th>\n",
              "      <td>TLynn Peterson</td>\n",
              "      <td>Black Canyon City, Arizona</td>\n",
              "      <td>Acquired disability ♿ after an accident. Livin...</td>\n",
              "      <td>2013-05-29 00:17:46</td>\n",
              "      <td>5045</td>\n",
              "      <td>5374</td>\n",
              "      <td>48152</td>\n",
              "      <td>False</td>\n",
              "      <td>2020-09-13 00:31:46</td>\n",
              "      <td>['TheSocialDilemma']</td>\n",
              "      <td>Twitter for Android</td>\n",
              "      <td>False</td>\n",
              "      <td>TheSocialDilemma If we don t agree on what is ...</td>\n",
              "      <td>Positive</td>\n",
              "    </tr>\n",
              "    <tr>\n",
              "      <th>2</th>\n",
              "      <td>Rutger Kosters</td>\n",
              "      <td>Netherlands</td>\n",
              "      <td>Cloud Solution Architect @NetApp | VCDX #209 |...</td>\n",
              "      <td>2014-10-07 09:34:10</td>\n",
              "      <td>574</td>\n",
              "      <td>251</td>\n",
              "      <td>1070</td>\n",
              "      <td>False</td>\n",
              "      <td>2020-09-09 21:10:33</td>\n",
              "      <td>['TheSocialDilemma']</td>\n",
              "      <td>Twitter for Android</td>\n",
              "      <td>False</td>\n",
              "      <td>Watching TheSocialDilemma scary to see social ...</td>\n",
              "      <td>Negative</td>\n",
              "    </tr>\n",
              "    <tr>\n",
              "      <th>3</th>\n",
              "      <td>IDFWU🗯🇿🇼🇿🇦</td>\n",
              "      <td>East London, South Africa</td>\n",
              "      <td>YOU HAVE OPTIONS, YOU CAN’T JUST TAKE WHAT LIF...</td>\n",
              "      <td>2012-08-22 11:09:06</td>\n",
              "      <td>706</td>\n",
              "      <td>618</td>\n",
              "      <td>1320</td>\n",
              "      <td>False</td>\n",
              "      <td>2020-09-11 04:33:08</td>\n",
              "      <td>NaN</td>\n",
              "      <td>Twitter for Android</td>\n",
              "      <td>False</td>\n",
              "      <td>You check your social media before you pee in ...</td>\n",
              "      <td>Positive</td>\n",
              "    </tr>\n",
              "    <tr>\n",
              "      <th>4</th>\n",
              "      <td>Treebel</td>\n",
              "      <td>NaN</td>\n",
              "      <td>NaN</td>\n",
              "      <td>2010-09-25 07:25:31</td>\n",
              "      <td>9</td>\n",
              "      <td>13</td>\n",
              "      <td>55</td>\n",
              "      <td>False</td>\n",
              "      <td>2020-09-17 16:27:38</td>\n",
              "      <td>['thesocialdilemma']</td>\n",
              "      <td>Twitter for iPhone</td>\n",
              "      <td>False</td>\n",
              "      <td>watch thesocialdilemma and see what s actually...</td>\n",
              "      <td>Negative</td>\n",
              "    </tr>\n",
              "  </tbody>\n",
              "</table>\n",
              "</div>\n",
              "    <div class=\"colab-df-buttons\">\n",
              "\n",
              "  <div class=\"colab-df-container\">\n",
              "    <button class=\"colab-df-convert\" onclick=\"convertToInteractive('df-f7e1ec0d-d4f2-42bc-9210-929efd8a1aab')\"\n",
              "            title=\"Convert this dataframe to an interactive table.\"\n",
              "            style=\"display:none;\">\n",
              "\n",
              "  <svg xmlns=\"http://www.w3.org/2000/svg\" height=\"24px\" viewBox=\"0 -960 960 960\">\n",
              "    <path d=\"M120-120v-720h720v720H120Zm60-500h600v-160H180v160Zm220 220h160v-160H400v160Zm0 220h160v-160H400v160ZM180-400h160v-160H180v160Zm440 0h160v-160H620v160ZM180-180h160v-160H180v160Zm440 0h160v-160H620v160Z\"/>\n",
              "  </svg>\n",
              "    </button>\n",
              "\n",
              "  <style>\n",
              "    .colab-df-container {\n",
              "      display:flex;\n",
              "      gap: 12px;\n",
              "    }\n",
              "\n",
              "    .colab-df-convert {\n",
              "      background-color: #E8F0FE;\n",
              "      border: none;\n",
              "      border-radius: 50%;\n",
              "      cursor: pointer;\n",
              "      display: none;\n",
              "      fill: #1967D2;\n",
              "      height: 32px;\n",
              "      padding: 0 0 0 0;\n",
              "      width: 32px;\n",
              "    }\n",
              "\n",
              "    .colab-df-convert:hover {\n",
              "      background-color: #E2EBFA;\n",
              "      box-shadow: 0px 1px 2px rgba(60, 64, 67, 0.3), 0px 1px 3px 1px rgba(60, 64, 67, 0.15);\n",
              "      fill: #174EA6;\n",
              "    }\n",
              "\n",
              "    .colab-df-buttons div {\n",
              "      margin-bottom: 4px;\n",
              "    }\n",
              "\n",
              "    [theme=dark] .colab-df-convert {\n",
              "      background-color: #3B4455;\n",
              "      fill: #D2E3FC;\n",
              "    }\n",
              "\n",
              "    [theme=dark] .colab-df-convert:hover {\n",
              "      background-color: #434B5C;\n",
              "      box-shadow: 0px 1px 3px 1px rgba(0, 0, 0, 0.15);\n",
              "      filter: drop-shadow(0px 1px 2px rgba(0, 0, 0, 0.3));\n",
              "      fill: #FFFFFF;\n",
              "    }\n",
              "  </style>\n",
              "\n",
              "    <script>\n",
              "      const buttonEl =\n",
              "        document.querySelector('#df-f7e1ec0d-d4f2-42bc-9210-929efd8a1aab button.colab-df-convert');\n",
              "      buttonEl.style.display =\n",
              "        google.colab.kernel.accessAllowed ? 'block' : 'none';\n",
              "\n",
              "      async function convertToInteractive(key) {\n",
              "        const element = document.querySelector('#df-f7e1ec0d-d4f2-42bc-9210-929efd8a1aab');\n",
              "        const dataTable =\n",
              "          await google.colab.kernel.invokeFunction('convertToInteractive',\n",
              "                                                    [key], {});\n",
              "        if (!dataTable) return;\n",
              "\n",
              "        const docLinkHtml = 'Like what you see? Visit the ' +\n",
              "          '<a target=\"_blank\" href=https://colab.research.google.com/notebooks/data_table.ipynb>data table notebook</a>'\n",
              "          + ' to learn more about interactive tables.';\n",
              "        element.innerHTML = '';\n",
              "        dataTable['output_type'] = 'display_data';\n",
              "        await google.colab.output.renderOutput(dataTable, element);\n",
              "        const docLink = document.createElement('div');\n",
              "        docLink.innerHTML = docLinkHtml;\n",
              "        element.appendChild(docLink);\n",
              "      }\n",
              "    </script>\n",
              "  </div>\n",
              "\n",
              "\n",
              "<div id=\"df-f7da39f0-c1aa-4064-930e-6be91d1db8da\">\n",
              "  <button class=\"colab-df-quickchart\" onclick=\"quickchart('df-f7da39f0-c1aa-4064-930e-6be91d1db8da')\"\n",
              "            title=\"Suggest charts.\"\n",
              "            style=\"display:none;\">\n",
              "\n",
              "<svg xmlns=\"http://www.w3.org/2000/svg\" height=\"24px\"viewBox=\"0 0 24 24\"\n",
              "     width=\"24px\">\n",
              "    <g>\n",
              "        <path d=\"M19 3H5c-1.1 0-2 .9-2 2v14c0 1.1.9 2 2 2h14c1.1 0 2-.9 2-2V5c0-1.1-.9-2-2-2zM9 17H7v-7h2v7zm4 0h-2V7h2v10zm4 0h-2v-4h2v4z\"/>\n",
              "    </g>\n",
              "</svg>\n",
              "  </button>\n",
              "\n",
              "<style>\n",
              "  .colab-df-quickchart {\n",
              "      --bg-color: #E8F0FE;\n",
              "      --fill-color: #1967D2;\n",
              "      --hover-bg-color: #E2EBFA;\n",
              "      --hover-fill-color: #174EA6;\n",
              "      --disabled-fill-color: #AAA;\n",
              "      --disabled-bg-color: #DDD;\n",
              "  }\n",
              "\n",
              "  [theme=dark] .colab-df-quickchart {\n",
              "      --bg-color: #3B4455;\n",
              "      --fill-color: #D2E3FC;\n",
              "      --hover-bg-color: #434B5C;\n",
              "      --hover-fill-color: #FFFFFF;\n",
              "      --disabled-bg-color: #3B4455;\n",
              "      --disabled-fill-color: #666;\n",
              "  }\n",
              "\n",
              "  .colab-df-quickchart {\n",
              "    background-color: var(--bg-color);\n",
              "    border: none;\n",
              "    border-radius: 50%;\n",
              "    cursor: pointer;\n",
              "    display: none;\n",
              "    fill: var(--fill-color);\n",
              "    height: 32px;\n",
              "    padding: 0;\n",
              "    width: 32px;\n",
              "  }\n",
              "\n",
              "  .colab-df-quickchart:hover {\n",
              "    background-color: var(--hover-bg-color);\n",
              "    box-shadow: 0 1px 2px rgba(60, 64, 67, 0.3), 0 1px 3px 1px rgba(60, 64, 67, 0.15);\n",
              "    fill: var(--button-hover-fill-color);\n",
              "  }\n",
              "\n",
              "  .colab-df-quickchart-complete:disabled,\n",
              "  .colab-df-quickchart-complete:disabled:hover {\n",
              "    background-color: var(--disabled-bg-color);\n",
              "    fill: var(--disabled-fill-color);\n",
              "    box-shadow: none;\n",
              "  }\n",
              "\n",
              "  .colab-df-spinner {\n",
              "    border: 2px solid var(--fill-color);\n",
              "    border-color: transparent;\n",
              "    border-bottom-color: var(--fill-color);\n",
              "    animation:\n",
              "      spin 1s steps(1) infinite;\n",
              "  }\n",
              "\n",
              "  @keyframes spin {\n",
              "    0% {\n",
              "      border-color: transparent;\n",
              "      border-bottom-color: var(--fill-color);\n",
              "      border-left-color: var(--fill-color);\n",
              "    }\n",
              "    20% {\n",
              "      border-color: transparent;\n",
              "      border-left-color: var(--fill-color);\n",
              "      border-top-color: var(--fill-color);\n",
              "    }\n",
              "    30% {\n",
              "      border-color: transparent;\n",
              "      border-left-color: var(--fill-color);\n",
              "      border-top-color: var(--fill-color);\n",
              "      border-right-color: var(--fill-color);\n",
              "    }\n",
              "    40% {\n",
              "      border-color: transparent;\n",
              "      border-right-color: var(--fill-color);\n",
              "      border-top-color: var(--fill-color);\n",
              "    }\n",
              "    60% {\n",
              "      border-color: transparent;\n",
              "      border-right-color: var(--fill-color);\n",
              "    }\n",
              "    80% {\n",
              "      border-color: transparent;\n",
              "      border-right-color: var(--fill-color);\n",
              "      border-bottom-color: var(--fill-color);\n",
              "    }\n",
              "    90% {\n",
              "      border-color: transparent;\n",
              "      border-bottom-color: var(--fill-color);\n",
              "    }\n",
              "  }\n",
              "</style>\n",
              "\n",
              "  <script>\n",
              "    async function quickchart(key) {\n",
              "      const quickchartButtonEl =\n",
              "        document.querySelector('#' + key + ' button');\n",
              "      quickchartButtonEl.disabled = true;  // To prevent multiple clicks.\n",
              "      quickchartButtonEl.classList.add('colab-df-spinner');\n",
              "      try {\n",
              "        const charts = await google.colab.kernel.invokeFunction(\n",
              "            'suggestCharts', [key], {});\n",
              "      } catch (error) {\n",
              "        console.error('Error during call to suggestCharts:', error);\n",
              "      }\n",
              "      quickchartButtonEl.classList.remove('colab-df-spinner');\n",
              "      quickchartButtonEl.classList.add('colab-df-quickchart-complete');\n",
              "    }\n",
              "    (() => {\n",
              "      let quickchartButtonEl =\n",
              "        document.querySelector('#df-f7da39f0-c1aa-4064-930e-6be91d1db8da button');\n",
              "      quickchartButtonEl.style.display =\n",
              "        google.colab.kernel.accessAllowed ? 'block' : 'none';\n",
              "    })();\n",
              "  </script>\n",
              "</div>\n",
              "    </div>\n",
              "  </div>\n"
            ],
            "text/plain": [
              "        user_name  ... Sentiment\n",
              "0          Romy 👑  ...   Neutral\n",
              "1  TLynn Peterson  ...  Positive\n",
              "2  Rutger Kosters  ...  Negative\n",
              "3      IDFWU🗯🇿🇼🇿🇦  ...  Positive\n",
              "4         Treebel  ...  Negative\n",
              "\n",
              "[5 rows x 14 columns]"
            ]
          },
          "execution_count": 8,
          "metadata": {},
          "output_type": "execute_result"
        }
      ],
      "source": [
        "df_train.head()"
      ]
    },
    {
      "cell_type": "code",
      "execution_count": null,
      "metadata": {
        "colab": {
          "base_uri": "https://localhost:8080/"
        },
        "id": "gzyMu_gt_ok7",
        "outputId": "c62ac700-16ce-485e-cfbb-0e766293b8df"
      },
      "outputs": [
        {
          "data": {
            "text/plain": [
              "Index(['user_name', 'user_location', 'user_description', 'user_created',\n",
              "       'user_followers', 'user_friends', 'user_favourites', 'user_verified',\n",
              "       'date', 'hashtags', 'source', 'is_retweet', 'clean_text', 'Sentiment'],\n",
              "      dtype='object')"
            ]
          },
          "execution_count": 4,
          "metadata": {},
          "output_type": "execute_result"
        }
      ],
      "source": [
        "df_train.columns"
      ]
    },
    {
      "cell_type": "code",
      "execution_count": null,
      "metadata": {
        "colab": {
          "base_uri": "https://localhost:8080/"
        },
        "id": "n_wcoRaK_05K",
        "outputId": "3663e3fd-699d-491f-e1eb-5245c6307fc4"
      },
      "outputs": [
        {
          "data": {
            "text/plain": [
              "Index(['user_name', 'user_location', 'user_description', 'user_created',\n",
              "       'user_followers', 'user_friends', 'user_favourites', 'user_verified',\n",
              "       'date', 'hashtags', 'source', 'is_retweet', 'clean_text'],\n",
              "      dtype='object')"
            ]
          },
          "execution_count": 5,
          "metadata": {},
          "output_type": "execute_result"
        }
      ],
      "source": [
        "df_test.columns"
      ]
    },
    {
      "cell_type": "code",
      "execution_count": null,
      "metadata": {
        "colab": {
          "base_uri": "https://localhost:8080/"
        },
        "id": "ggYyoa2H7atn",
        "outputId": "7d479431-1cd5-4851-f9ce-d06a6ab53d37"
      },
      "outputs": [
        {
          "name": "stdout",
          "output_type": "stream",
          "text": [
            "(17000, 14) (3068, 13)\n"
          ]
        }
      ],
      "source": [
        "print(df_train.shape, df_test.shape)"
      ]
    },
    {
      "cell_type": "code",
      "execution_count": null,
      "metadata": {
        "colab": {
          "base_uri": "https://localhost:8080/"
        },
        "id": "zMqav6_NAGOD",
        "outputId": "030bd895-02e9-423e-d34d-e2ca9df20f0f"
      },
      "outputs": [
        {
          "data": {
            "text/plain": [
              "Positive    8059\n",
              "Neutral     5927\n",
              "Negative    3014\n",
              "Name: Sentiment, dtype: int64"
            ]
          },
          "execution_count": 7,
          "metadata": {},
          "output_type": "execute_result"
        }
      ],
      "source": [
        "df_train['Sentiment'].value_counts()"
      ]
    },
    {
      "cell_type": "code",
      "execution_count": null,
      "metadata": {
        "colab": {
          "base_uri": "https://localhost:8080/"
        },
        "id": "albs8fNEASd0",
        "outputId": "e11548f4-208a-4e83-9908-0fbc8d2c2d45"
      },
      "outputs": [
        {
          "name": "stdout",
          "output_type": "stream",
          "text": [
            "This train_dataset contain 47.41% Positive Sentiment tweet\n",
            "**************************************************************************************************************\n",
            "This train_dataset contain 17.73% Neg Sentiment tweet\n",
            "**************************************************************************************************************\n",
            "This train_dataset contain 34.86% Neu Sentiment tweet\n"
          ]
        }
      ],
      "source": [
        "Pos = round(df_train['Sentiment'].value_counts()[0]/ len(df_train)*100,2)\n",
        "Neu = round(df_train['Sentiment'].value_counts()[1]/ len(df_train)*100,2)\n",
        "Neg = round(df_train['Sentiment'].value_counts()[2]/ len(df_train)*100,2)\n",
        "\n",
        "print('This train_dataset contain {}% Positive Sentiment tweet'.format(Pos))\n",
        "print(\"***********\"*10)\n",
        "print('This train_dataset contain {}% Neg Sentiment tweet'.format(Neg))\n",
        "print(\"***********\"*10)\n",
        "print('This train_dataset contain {}% Neu Sentiment tweet'.format(Neu))"
      ]
    },
    {
      "cell_type": "code",
      "execution_count": null,
      "metadata": {
        "colab": {
          "base_uri": "https://localhost:8080/"
        },
        "id": "n4VjHrib7axA",
        "outputId": "9d9ce7b9-41fd-4e53-96db-7f84458ae98b"
      },
      "outputs": [
        {
          "data": {
            "text/plain": [
              "17000"
            ]
          },
          "execution_count": 10,
          "metadata": {},
          "output_type": "execute_result"
        }
      ],
      "source": [
        "len(df_train)"
      ]
    },
    {
      "cell_type": "code",
      "execution_count": null,
      "metadata": {
        "colab": {
          "base_uri": "https://localhost:8080/"
        },
        "id": "xha-DXEI7a4Z",
        "outputId": "9e86e1fb-d31e-43fb-ec37-52b4bdfe4cc6"
      },
      "outputs": [
        {
          "data": {
            "text/plain": [
              "3014"
            ]
          },
          "execution_count": 13,
          "metadata": {},
          "output_type": "execute_result"
        }
      ],
      "source": [
        "df_train['Sentiment'].value_counts()[2]"
      ]
    },
    {
      "cell_type": "code",
      "execution_count": null,
      "metadata": {
        "colab": {
          "base_uri": "https://localhost:8080/",
          "height": 206
        },
        "id": "uNowMXzO7a7W",
        "outputId": "b43a02cf-25f6-4e59-833d-3ba5518448b4"
      },
      "outputs": [
        {
          "data": {
            "text/html": [
              "\n",
              "  <div id=\"df-479854d2-dcfe-423a-80b2-29ebf60a6213\" class=\"colab-df-container\">\n",
              "    <div>\n",
              "<style scoped>\n",
              "    .dataframe tbody tr th:only-of-type {\n",
              "        vertical-align: middle;\n",
              "    }\n",
              "\n",
              "    .dataframe tbody tr th {\n",
              "        vertical-align: top;\n",
              "    }\n",
              "\n",
              "    .dataframe thead th {\n",
              "        text-align: right;\n",
              "    }\n",
              "</style>\n",
              "<table border=\"1\" class=\"dataframe\">\n",
              "  <thead>\n",
              "    <tr style=\"text-align: right;\">\n",
              "      <th></th>\n",
              "      <th>clean_text</th>\n",
              "      <th>Sentiment</th>\n",
              "    </tr>\n",
              "  </thead>\n",
              "  <tbody>\n",
              "    <tr>\n",
              "      <th>0</th>\n",
              "      <td>TheSocialDilemma is an eye opener isn t it ple...</td>\n",
              "      <td>Neutral</td>\n",
              "    </tr>\n",
              "    <tr>\n",
              "      <th>1</th>\n",
              "      <td>TheSocialDilemma If we don t agree on what is ...</td>\n",
              "      <td>Positive</td>\n",
              "    </tr>\n",
              "    <tr>\n",
              "      <th>2</th>\n",
              "      <td>Watching TheSocialDilemma scary to see social ...</td>\n",
              "      <td>Negative</td>\n",
              "    </tr>\n",
              "    <tr>\n",
              "      <th>3</th>\n",
              "      <td>You check your social media before you pee in ...</td>\n",
              "      <td>Positive</td>\n",
              "    </tr>\n",
              "    <tr>\n",
              "      <th>4</th>\n",
              "      <td>watch thesocialdilemma and see what s actually...</td>\n",
              "      <td>Negative</td>\n",
              "    </tr>\n",
              "  </tbody>\n",
              "</table>\n",
              "</div>\n",
              "    <div class=\"colab-df-buttons\">\n",
              "\n",
              "  <div class=\"colab-df-container\">\n",
              "    <button class=\"colab-df-convert\" onclick=\"convertToInteractive('df-479854d2-dcfe-423a-80b2-29ebf60a6213')\"\n",
              "            title=\"Convert this dataframe to an interactive table.\"\n",
              "            style=\"display:none;\">\n",
              "\n",
              "  <svg xmlns=\"http://www.w3.org/2000/svg\" height=\"24px\" viewBox=\"0 -960 960 960\">\n",
              "    <path d=\"M120-120v-720h720v720H120Zm60-500h600v-160H180v160Zm220 220h160v-160H400v160Zm0 220h160v-160H400v160ZM180-400h160v-160H180v160Zm440 0h160v-160H620v160ZM180-180h160v-160H180v160Zm440 0h160v-160H620v160Z\"/>\n",
              "  </svg>\n",
              "    </button>\n",
              "\n",
              "  <style>\n",
              "    .colab-df-container {\n",
              "      display:flex;\n",
              "      gap: 12px;\n",
              "    }\n",
              "\n",
              "    .colab-df-convert {\n",
              "      background-color: #E8F0FE;\n",
              "      border: none;\n",
              "      border-radius: 50%;\n",
              "      cursor: pointer;\n",
              "      display: none;\n",
              "      fill: #1967D2;\n",
              "      height: 32px;\n",
              "      padding: 0 0 0 0;\n",
              "      width: 32px;\n",
              "    }\n",
              "\n",
              "    .colab-df-convert:hover {\n",
              "      background-color: #E2EBFA;\n",
              "      box-shadow: 0px 1px 2px rgba(60, 64, 67, 0.3), 0px 1px 3px 1px rgba(60, 64, 67, 0.15);\n",
              "      fill: #174EA6;\n",
              "    }\n",
              "\n",
              "    .colab-df-buttons div {\n",
              "      margin-bottom: 4px;\n",
              "    }\n",
              "\n",
              "    [theme=dark] .colab-df-convert {\n",
              "      background-color: #3B4455;\n",
              "      fill: #D2E3FC;\n",
              "    }\n",
              "\n",
              "    [theme=dark] .colab-df-convert:hover {\n",
              "      background-color: #434B5C;\n",
              "      box-shadow: 0px 1px 3px 1px rgba(0, 0, 0, 0.15);\n",
              "      filter: drop-shadow(0px 1px 2px rgba(0, 0, 0, 0.3));\n",
              "      fill: #FFFFFF;\n",
              "    }\n",
              "  </style>\n",
              "\n",
              "    <script>\n",
              "      const buttonEl =\n",
              "        document.querySelector('#df-479854d2-dcfe-423a-80b2-29ebf60a6213 button.colab-df-convert');\n",
              "      buttonEl.style.display =\n",
              "        google.colab.kernel.accessAllowed ? 'block' : 'none';\n",
              "\n",
              "      async function convertToInteractive(key) {\n",
              "        const element = document.querySelector('#df-479854d2-dcfe-423a-80b2-29ebf60a6213');\n",
              "        const dataTable =\n",
              "          await google.colab.kernel.invokeFunction('convertToInteractive',\n",
              "                                                    [key], {});\n",
              "        if (!dataTable) return;\n",
              "\n",
              "        const docLinkHtml = 'Like what you see? Visit the ' +\n",
              "          '<a target=\"_blank\" href=https://colab.research.google.com/notebooks/data_table.ipynb>data table notebook</a>'\n",
              "          + ' to learn more about interactive tables.';\n",
              "        element.innerHTML = '';\n",
              "        dataTable['output_type'] = 'display_data';\n",
              "        await google.colab.output.renderOutput(dataTable, element);\n",
              "        const docLink = document.createElement('div');\n",
              "        docLink.innerHTML = docLinkHtml;\n",
              "        element.appendChild(docLink);\n",
              "      }\n",
              "    </script>\n",
              "  </div>\n",
              "\n",
              "\n",
              "<div id=\"df-b7cf9e89-7bdd-41d5-9ffb-7d57460af056\">\n",
              "  <button class=\"colab-df-quickchart\" onclick=\"quickchart('df-b7cf9e89-7bdd-41d5-9ffb-7d57460af056')\"\n",
              "            title=\"Suggest charts.\"\n",
              "            style=\"display:none;\">\n",
              "\n",
              "<svg xmlns=\"http://www.w3.org/2000/svg\" height=\"24px\"viewBox=\"0 0 24 24\"\n",
              "     width=\"24px\">\n",
              "    <g>\n",
              "        <path d=\"M19 3H5c-1.1 0-2 .9-2 2v14c0 1.1.9 2 2 2h14c1.1 0 2-.9 2-2V5c0-1.1-.9-2-2-2zM9 17H7v-7h2v7zm4 0h-2V7h2v10zm4 0h-2v-4h2v4z\"/>\n",
              "    </g>\n",
              "</svg>\n",
              "  </button>\n",
              "\n",
              "<style>\n",
              "  .colab-df-quickchart {\n",
              "      --bg-color: #E8F0FE;\n",
              "      --fill-color: #1967D2;\n",
              "      --hover-bg-color: #E2EBFA;\n",
              "      --hover-fill-color: #174EA6;\n",
              "      --disabled-fill-color: #AAA;\n",
              "      --disabled-bg-color: #DDD;\n",
              "  }\n",
              "\n",
              "  [theme=dark] .colab-df-quickchart {\n",
              "      --bg-color: #3B4455;\n",
              "      --fill-color: #D2E3FC;\n",
              "      --hover-bg-color: #434B5C;\n",
              "      --hover-fill-color: #FFFFFF;\n",
              "      --disabled-bg-color: #3B4455;\n",
              "      --disabled-fill-color: #666;\n",
              "  }\n",
              "\n",
              "  .colab-df-quickchart {\n",
              "    background-color: var(--bg-color);\n",
              "    border: none;\n",
              "    border-radius: 50%;\n",
              "    cursor: pointer;\n",
              "    display: none;\n",
              "    fill: var(--fill-color);\n",
              "    height: 32px;\n",
              "    padding: 0;\n",
              "    width: 32px;\n",
              "  }\n",
              "\n",
              "  .colab-df-quickchart:hover {\n",
              "    background-color: var(--hover-bg-color);\n",
              "    box-shadow: 0 1px 2px rgba(60, 64, 67, 0.3), 0 1px 3px 1px rgba(60, 64, 67, 0.15);\n",
              "    fill: var(--button-hover-fill-color);\n",
              "  }\n",
              "\n",
              "  .colab-df-quickchart-complete:disabled,\n",
              "  .colab-df-quickchart-complete:disabled:hover {\n",
              "    background-color: var(--disabled-bg-color);\n",
              "    fill: var(--disabled-fill-color);\n",
              "    box-shadow: none;\n",
              "  }\n",
              "\n",
              "  .colab-df-spinner {\n",
              "    border: 2px solid var(--fill-color);\n",
              "    border-color: transparent;\n",
              "    border-bottom-color: var(--fill-color);\n",
              "    animation:\n",
              "      spin 1s steps(1) infinite;\n",
              "  }\n",
              "\n",
              "  @keyframes spin {\n",
              "    0% {\n",
              "      border-color: transparent;\n",
              "      border-bottom-color: var(--fill-color);\n",
              "      border-left-color: var(--fill-color);\n",
              "    }\n",
              "    20% {\n",
              "      border-color: transparent;\n",
              "      border-left-color: var(--fill-color);\n",
              "      border-top-color: var(--fill-color);\n",
              "    }\n",
              "    30% {\n",
              "      border-color: transparent;\n",
              "      border-left-color: var(--fill-color);\n",
              "      border-top-color: var(--fill-color);\n",
              "      border-right-color: var(--fill-color);\n",
              "    }\n",
              "    40% {\n",
              "      border-color: transparent;\n",
              "      border-right-color: var(--fill-color);\n",
              "      border-top-color: var(--fill-color);\n",
              "    }\n",
              "    60% {\n",
              "      border-color: transparent;\n",
              "      border-right-color: var(--fill-color);\n",
              "    }\n",
              "    80% {\n",
              "      border-color: transparent;\n",
              "      border-right-color: var(--fill-color);\n",
              "      border-bottom-color: var(--fill-color);\n",
              "    }\n",
              "    90% {\n",
              "      border-color: transparent;\n",
              "      border-bottom-color: var(--fill-color);\n",
              "    }\n",
              "  }\n",
              "</style>\n",
              "\n",
              "  <script>\n",
              "    async function quickchart(key) {\n",
              "      const quickchartButtonEl =\n",
              "        document.querySelector('#' + key + ' button');\n",
              "      quickchartButtonEl.disabled = true;  // To prevent multiple clicks.\n",
              "      quickchartButtonEl.classList.add('colab-df-spinner');\n",
              "      try {\n",
              "        const charts = await google.colab.kernel.invokeFunction(\n",
              "            'suggestCharts', [key], {});\n",
              "      } catch (error) {\n",
              "        console.error('Error during call to suggestCharts:', error);\n",
              "      }\n",
              "      quickchartButtonEl.classList.remove('colab-df-spinner');\n",
              "      quickchartButtonEl.classList.add('colab-df-quickchart-complete');\n",
              "    }\n",
              "    (() => {\n",
              "      let quickchartButtonEl =\n",
              "        document.querySelector('#df-b7cf9e89-7bdd-41d5-9ffb-7d57460af056 button');\n",
              "      quickchartButtonEl.style.display =\n",
              "        google.colab.kernel.accessAllowed ? 'block' : 'none';\n",
              "    })();\n",
              "  </script>\n",
              "</div>\n",
              "    </div>\n",
              "  </div>\n"
            ],
            "text/plain": [
              "                                          clean_text Sentiment\n",
              "0  TheSocialDilemma is an eye opener isn t it ple...   Neutral\n",
              "1  TheSocialDilemma If we don t agree on what is ...  Positive\n",
              "2  Watching TheSocialDilemma scary to see social ...  Negative\n",
              "3  You check your social media before you pee in ...  Positive\n",
              "4  watch thesocialdilemma and see what s actually...  Negative"
            ]
          },
          "execution_count": 14,
          "metadata": {},
          "output_type": "execute_result"
        }
      ],
      "source": [
        "# Select relevant columns\n",
        "df_train = df_train[['clean_text', 'Sentiment']]\n",
        "df_train.head()"
      ]
    },
    {
      "cell_type": "code",
      "execution_count": null,
      "metadata": {
        "colab": {
          "base_uri": "https://localhost:8080/",
          "height": 35
        },
        "id": "NcAEAJHtTXUv",
        "outputId": "96d66ea9-fe45-4689-bbab-d95f3325978e"
      },
      "outputs": [
        {
          "data": {
            "application/vnd.google.colaboratory.intrinsic+json": {
              "type": "string"
            },
            "text/plain": [
              "'watch thesocialdilemma and see what s actually going on And share it s scary but 100 true'"
            ]
          },
          "execution_count": 47,
          "metadata": {},
          "output_type": "execute_result"
        }
      ],
      "source": [
        "df_train['clean_text'][4]"
      ]
    },
    {
      "cell_type": "code",
      "execution_count": null,
      "metadata": {
        "colab": {
          "base_uri": "https://localhost:8080/",
          "height": 206
        },
        "id": "5RjeAeiECKZa",
        "outputId": "6747e42b-0e74-4e3b-c027-d4f3651a48ed"
      },
      "outputs": [
        {
          "data": {
            "text/html": [
              "\n",
              "  <div id=\"df-0dedae1b-3587-4c40-a4e2-2616d8aae10e\" class=\"colab-df-container\">\n",
              "    <div>\n",
              "<style scoped>\n",
              "    .dataframe tbody tr th:only-of-type {\n",
              "        vertical-align: middle;\n",
              "    }\n",
              "\n",
              "    .dataframe tbody tr th {\n",
              "        vertical-align: top;\n",
              "    }\n",
              "\n",
              "    .dataframe thead th {\n",
              "        text-align: right;\n",
              "    }\n",
              "</style>\n",
              "<table border=\"1\" class=\"dataframe\">\n",
              "  <thead>\n",
              "    <tr style=\"text-align: right;\">\n",
              "      <th></th>\n",
              "      <th>clean_text</th>\n",
              "      <th>Sentiment</th>\n",
              "      <th>label</th>\n",
              "    </tr>\n",
              "  </thead>\n",
              "  <tbody>\n",
              "    <tr>\n",
              "      <th>0</th>\n",
              "      <td>TheSocialDilemma is an eye opener isn t it ple...</td>\n",
              "      <td>Neutral</td>\n",
              "      <td>0</td>\n",
              "    </tr>\n",
              "    <tr>\n",
              "      <th>1</th>\n",
              "      <td>TheSocialDilemma If we don t agree on what is ...</td>\n",
              "      <td>Positive</td>\n",
              "      <td>1</td>\n",
              "    </tr>\n",
              "    <tr>\n",
              "      <th>2</th>\n",
              "      <td>Watching TheSocialDilemma scary to see social ...</td>\n",
              "      <td>Negative</td>\n",
              "      <td>2</td>\n",
              "    </tr>\n",
              "    <tr>\n",
              "      <th>3</th>\n",
              "      <td>You check your social media before you pee in ...</td>\n",
              "      <td>Positive</td>\n",
              "      <td>1</td>\n",
              "    </tr>\n",
              "    <tr>\n",
              "      <th>4</th>\n",
              "      <td>watch thesocialdilemma and see what s actually...</td>\n",
              "      <td>Negative</td>\n",
              "      <td>2</td>\n",
              "    </tr>\n",
              "  </tbody>\n",
              "</table>\n",
              "</div>\n",
              "    <div class=\"colab-df-buttons\">\n",
              "\n",
              "  <div class=\"colab-df-container\">\n",
              "    <button class=\"colab-df-convert\" onclick=\"convertToInteractive('df-0dedae1b-3587-4c40-a4e2-2616d8aae10e')\"\n",
              "            title=\"Convert this dataframe to an interactive table.\"\n",
              "            style=\"display:none;\">\n",
              "\n",
              "  <svg xmlns=\"http://www.w3.org/2000/svg\" height=\"24px\" viewBox=\"0 -960 960 960\">\n",
              "    <path d=\"M120-120v-720h720v720H120Zm60-500h600v-160H180v160Zm220 220h160v-160H400v160Zm0 220h160v-160H400v160ZM180-400h160v-160H180v160Zm440 0h160v-160H620v160ZM180-180h160v-160H180v160Zm440 0h160v-160H620v160Z\"/>\n",
              "  </svg>\n",
              "    </button>\n",
              "\n",
              "  <style>\n",
              "    .colab-df-container {\n",
              "      display:flex;\n",
              "      gap: 12px;\n",
              "    }\n",
              "\n",
              "    .colab-df-convert {\n",
              "      background-color: #E8F0FE;\n",
              "      border: none;\n",
              "      border-radius: 50%;\n",
              "      cursor: pointer;\n",
              "      display: none;\n",
              "      fill: #1967D2;\n",
              "      height: 32px;\n",
              "      padding: 0 0 0 0;\n",
              "      width: 32px;\n",
              "    }\n",
              "\n",
              "    .colab-df-convert:hover {\n",
              "      background-color: #E2EBFA;\n",
              "      box-shadow: 0px 1px 2px rgba(60, 64, 67, 0.3), 0px 1px 3px 1px rgba(60, 64, 67, 0.15);\n",
              "      fill: #174EA6;\n",
              "    }\n",
              "\n",
              "    .colab-df-buttons div {\n",
              "      margin-bottom: 4px;\n",
              "    }\n",
              "\n",
              "    [theme=dark] .colab-df-convert {\n",
              "      background-color: #3B4455;\n",
              "      fill: #D2E3FC;\n",
              "    }\n",
              "\n",
              "    [theme=dark] .colab-df-convert:hover {\n",
              "      background-color: #434B5C;\n",
              "      box-shadow: 0px 1px 3px 1px rgba(0, 0, 0, 0.15);\n",
              "      filter: drop-shadow(0px 1px 2px rgba(0, 0, 0, 0.3));\n",
              "      fill: #FFFFFF;\n",
              "    }\n",
              "  </style>\n",
              "\n",
              "    <script>\n",
              "      const buttonEl =\n",
              "        document.querySelector('#df-0dedae1b-3587-4c40-a4e2-2616d8aae10e button.colab-df-convert');\n",
              "      buttonEl.style.display =\n",
              "        google.colab.kernel.accessAllowed ? 'block' : 'none';\n",
              "\n",
              "      async function convertToInteractive(key) {\n",
              "        const element = document.querySelector('#df-0dedae1b-3587-4c40-a4e2-2616d8aae10e');\n",
              "        const dataTable =\n",
              "          await google.colab.kernel.invokeFunction('convertToInteractive',\n",
              "                                                    [key], {});\n",
              "        if (!dataTable) return;\n",
              "\n",
              "        const docLinkHtml = 'Like what you see? Visit the ' +\n",
              "          '<a target=\"_blank\" href=https://colab.research.google.com/notebooks/data_table.ipynb>data table notebook</a>'\n",
              "          + ' to learn more about interactive tables.';\n",
              "        element.innerHTML = '';\n",
              "        dataTable['output_type'] = 'display_data';\n",
              "        await google.colab.output.renderOutput(dataTable, element);\n",
              "        const docLink = document.createElement('div');\n",
              "        docLink.innerHTML = docLinkHtml;\n",
              "        element.appendChild(docLink);\n",
              "      }\n",
              "    </script>\n",
              "  </div>\n",
              "\n",
              "\n",
              "<div id=\"df-82d2626f-9859-41f5-9187-6a7c8954046d\">\n",
              "  <button class=\"colab-df-quickchart\" onclick=\"quickchart('df-82d2626f-9859-41f5-9187-6a7c8954046d')\"\n",
              "            title=\"Suggest charts.\"\n",
              "            style=\"display:none;\">\n",
              "\n",
              "<svg xmlns=\"http://www.w3.org/2000/svg\" height=\"24px\"viewBox=\"0 0 24 24\"\n",
              "     width=\"24px\">\n",
              "    <g>\n",
              "        <path d=\"M19 3H5c-1.1 0-2 .9-2 2v14c0 1.1.9 2 2 2h14c1.1 0 2-.9 2-2V5c0-1.1-.9-2-2-2zM9 17H7v-7h2v7zm4 0h-2V7h2v10zm4 0h-2v-4h2v4z\"/>\n",
              "    </g>\n",
              "</svg>\n",
              "  </button>\n",
              "\n",
              "<style>\n",
              "  .colab-df-quickchart {\n",
              "      --bg-color: #E8F0FE;\n",
              "      --fill-color: #1967D2;\n",
              "      --hover-bg-color: #E2EBFA;\n",
              "      --hover-fill-color: #174EA6;\n",
              "      --disabled-fill-color: #AAA;\n",
              "      --disabled-bg-color: #DDD;\n",
              "  }\n",
              "\n",
              "  [theme=dark] .colab-df-quickchart {\n",
              "      --bg-color: #3B4455;\n",
              "      --fill-color: #D2E3FC;\n",
              "      --hover-bg-color: #434B5C;\n",
              "      --hover-fill-color: #FFFFFF;\n",
              "      --disabled-bg-color: #3B4455;\n",
              "      --disabled-fill-color: #666;\n",
              "  }\n",
              "\n",
              "  .colab-df-quickchart {\n",
              "    background-color: var(--bg-color);\n",
              "    border: none;\n",
              "    border-radius: 50%;\n",
              "    cursor: pointer;\n",
              "    display: none;\n",
              "    fill: var(--fill-color);\n",
              "    height: 32px;\n",
              "    padding: 0;\n",
              "    width: 32px;\n",
              "  }\n",
              "\n",
              "  .colab-df-quickchart:hover {\n",
              "    background-color: var(--hover-bg-color);\n",
              "    box-shadow: 0 1px 2px rgba(60, 64, 67, 0.3), 0 1px 3px 1px rgba(60, 64, 67, 0.15);\n",
              "    fill: var(--button-hover-fill-color);\n",
              "  }\n",
              "\n",
              "  .colab-df-quickchart-complete:disabled,\n",
              "  .colab-df-quickchart-complete:disabled:hover {\n",
              "    background-color: var(--disabled-bg-color);\n",
              "    fill: var(--disabled-fill-color);\n",
              "    box-shadow: none;\n",
              "  }\n",
              "\n",
              "  .colab-df-spinner {\n",
              "    border: 2px solid var(--fill-color);\n",
              "    border-color: transparent;\n",
              "    border-bottom-color: var(--fill-color);\n",
              "    animation:\n",
              "      spin 1s steps(1) infinite;\n",
              "  }\n",
              "\n",
              "  @keyframes spin {\n",
              "    0% {\n",
              "      border-color: transparent;\n",
              "      border-bottom-color: var(--fill-color);\n",
              "      border-left-color: var(--fill-color);\n",
              "    }\n",
              "    20% {\n",
              "      border-color: transparent;\n",
              "      border-left-color: var(--fill-color);\n",
              "      border-top-color: var(--fill-color);\n",
              "    }\n",
              "    30% {\n",
              "      border-color: transparent;\n",
              "      border-left-color: var(--fill-color);\n",
              "      border-top-color: var(--fill-color);\n",
              "      border-right-color: var(--fill-color);\n",
              "    }\n",
              "    40% {\n",
              "      border-color: transparent;\n",
              "      border-right-color: var(--fill-color);\n",
              "      border-top-color: var(--fill-color);\n",
              "    }\n",
              "    60% {\n",
              "      border-color: transparent;\n",
              "      border-right-color: var(--fill-color);\n",
              "    }\n",
              "    80% {\n",
              "      border-color: transparent;\n",
              "      border-right-color: var(--fill-color);\n",
              "      border-bottom-color: var(--fill-color);\n",
              "    }\n",
              "    90% {\n",
              "      border-color: transparent;\n",
              "      border-bottom-color: var(--fill-color);\n",
              "    }\n",
              "  }\n",
              "</style>\n",
              "\n",
              "  <script>\n",
              "    async function quickchart(key) {\n",
              "      const quickchartButtonEl =\n",
              "        document.querySelector('#' + key + ' button');\n",
              "      quickchartButtonEl.disabled = true;  // To prevent multiple clicks.\n",
              "      quickchartButtonEl.classList.add('colab-df-spinner');\n",
              "      try {\n",
              "        const charts = await google.colab.kernel.invokeFunction(\n",
              "            'suggestCharts', [key], {});\n",
              "      } catch (error) {\n",
              "        console.error('Error during call to suggestCharts:', error);\n",
              "      }\n",
              "      quickchartButtonEl.classList.remove('colab-df-spinner');\n",
              "      quickchartButtonEl.classList.add('colab-df-quickchart-complete');\n",
              "    }\n",
              "    (() => {\n",
              "      let quickchartButtonEl =\n",
              "        document.querySelector('#df-82d2626f-9859-41f5-9187-6a7c8954046d button');\n",
              "      quickchartButtonEl.style.display =\n",
              "        google.colab.kernel.accessAllowed ? 'block' : 'none';\n",
              "    })();\n",
              "  </script>\n",
              "</div>\n",
              "    </div>\n",
              "  </div>\n"
            ],
            "text/plain": [
              "                                          clean_text Sentiment  label\n",
              "0  TheSocialDilemma is an eye opener isn t it ple...   Neutral      0\n",
              "1  TheSocialDilemma If we don t agree on what is ...  Positive      1\n",
              "2  Watching TheSocialDilemma scary to see social ...  Negative      2\n",
              "3  You check your social media before you pee in ...  Positive      1\n",
              "4  watch thesocialdilemma and see what s actually...  Negative      2"
            ]
          },
          "execution_count": 15,
          "metadata": {},
          "output_type": "execute_result"
        }
      ],
      "source": [
        "# create a label columns using label encoding method\n",
        "lab = {'Neutral':0, \"Positive\":1, \"Negative\":2}\n",
        "df_train['label'] = df_train['Sentiment'].map(lab)\n",
        "df_train.head()"
      ]
    },
    {
      "cell_type": "code",
      "execution_count": null,
      "metadata": {
        "colab": {
          "base_uri": "https://localhost:8080/",
          "height": 112
        },
        "id": "QxybUx8rCqqw",
        "outputId": "27845e9d-5226-4944-ff1f-1b2282b4c674"
      },
      "outputs": [
        {
          "data": {
            "text/html": [
              "\n",
              "  <div id=\"df-9cf965c9-009f-4960-b774-b401242ebc4d\" class=\"colab-df-container\">\n",
              "    <div>\n",
              "<style scoped>\n",
              "    .dataframe tbody tr th:only-of-type {\n",
              "        vertical-align: middle;\n",
              "    }\n",
              "\n",
              "    .dataframe tbody tr th {\n",
              "        vertical-align: top;\n",
              "    }\n",
              "\n",
              "    .dataframe thead th {\n",
              "        text-align: right;\n",
              "    }\n",
              "</style>\n",
              "<table border=\"1\" class=\"dataframe\">\n",
              "  <thead>\n",
              "    <tr style=\"text-align: right;\">\n",
              "      <th></th>\n",
              "      <th>clean_text</th>\n",
              "      <th>label</th>\n",
              "    </tr>\n",
              "  </thead>\n",
              "  <tbody>\n",
              "    <tr>\n",
              "      <th>0</th>\n",
              "      <td>TheSocialDilemma is an eye opener isn t it ple...</td>\n",
              "      <td>0</td>\n",
              "    </tr>\n",
              "    <tr>\n",
              "      <th>1</th>\n",
              "      <td>TheSocialDilemma If we don t agree on what is ...</td>\n",
              "      <td>1</td>\n",
              "    </tr>\n",
              "  </tbody>\n",
              "</table>\n",
              "</div>\n",
              "    <div class=\"colab-df-buttons\">\n",
              "\n",
              "  <div class=\"colab-df-container\">\n",
              "    <button class=\"colab-df-convert\" onclick=\"convertToInteractive('df-9cf965c9-009f-4960-b774-b401242ebc4d')\"\n",
              "            title=\"Convert this dataframe to an interactive table.\"\n",
              "            style=\"display:none;\">\n",
              "\n",
              "  <svg xmlns=\"http://www.w3.org/2000/svg\" height=\"24px\" viewBox=\"0 -960 960 960\">\n",
              "    <path d=\"M120-120v-720h720v720H120Zm60-500h600v-160H180v160Zm220 220h160v-160H400v160Zm0 220h160v-160H400v160ZM180-400h160v-160H180v160Zm440 0h160v-160H620v160ZM180-180h160v-160H180v160Zm440 0h160v-160H620v160Z\"/>\n",
              "  </svg>\n",
              "    </button>\n",
              "\n",
              "  <style>\n",
              "    .colab-df-container {\n",
              "      display:flex;\n",
              "      gap: 12px;\n",
              "    }\n",
              "\n",
              "    .colab-df-convert {\n",
              "      background-color: #E8F0FE;\n",
              "      border: none;\n",
              "      border-radius: 50%;\n",
              "      cursor: pointer;\n",
              "      display: none;\n",
              "      fill: #1967D2;\n",
              "      height: 32px;\n",
              "      padding: 0 0 0 0;\n",
              "      width: 32px;\n",
              "    }\n",
              "\n",
              "    .colab-df-convert:hover {\n",
              "      background-color: #E2EBFA;\n",
              "      box-shadow: 0px 1px 2px rgba(60, 64, 67, 0.3), 0px 1px 3px 1px rgba(60, 64, 67, 0.15);\n",
              "      fill: #174EA6;\n",
              "    }\n",
              "\n",
              "    .colab-df-buttons div {\n",
              "      margin-bottom: 4px;\n",
              "    }\n",
              "\n",
              "    [theme=dark] .colab-df-convert {\n",
              "      background-color: #3B4455;\n",
              "      fill: #D2E3FC;\n",
              "    }\n",
              "\n",
              "    [theme=dark] .colab-df-convert:hover {\n",
              "      background-color: #434B5C;\n",
              "      box-shadow: 0px 1px 3px 1px rgba(0, 0, 0, 0.15);\n",
              "      filter: drop-shadow(0px 1px 2px rgba(0, 0, 0, 0.3));\n",
              "      fill: #FFFFFF;\n",
              "    }\n",
              "  </style>\n",
              "\n",
              "    <script>\n",
              "      const buttonEl =\n",
              "        document.querySelector('#df-9cf965c9-009f-4960-b774-b401242ebc4d button.colab-df-convert');\n",
              "      buttonEl.style.display =\n",
              "        google.colab.kernel.accessAllowed ? 'block' : 'none';\n",
              "\n",
              "      async function convertToInteractive(key) {\n",
              "        const element = document.querySelector('#df-9cf965c9-009f-4960-b774-b401242ebc4d');\n",
              "        const dataTable =\n",
              "          await google.colab.kernel.invokeFunction('convertToInteractive',\n",
              "                                                    [key], {});\n",
              "        if (!dataTable) return;\n",
              "\n",
              "        const docLinkHtml = 'Like what you see? Visit the ' +\n",
              "          '<a target=\"_blank\" href=https://colab.research.google.com/notebooks/data_table.ipynb>data table notebook</a>'\n",
              "          + ' to learn more about interactive tables.';\n",
              "        element.innerHTML = '';\n",
              "        dataTable['output_type'] = 'display_data';\n",
              "        await google.colab.output.renderOutput(dataTable, element);\n",
              "        const docLink = document.createElement('div');\n",
              "        docLink.innerHTML = docLinkHtml;\n",
              "        element.appendChild(docLink);\n",
              "      }\n",
              "    </script>\n",
              "  </div>\n",
              "\n",
              "\n",
              "<div id=\"df-fb169fa9-3367-4637-9f75-45f4e0977311\">\n",
              "  <button class=\"colab-df-quickchart\" onclick=\"quickchart('df-fb169fa9-3367-4637-9f75-45f4e0977311')\"\n",
              "            title=\"Suggest charts.\"\n",
              "            style=\"display:none;\">\n",
              "\n",
              "<svg xmlns=\"http://www.w3.org/2000/svg\" height=\"24px\"viewBox=\"0 0 24 24\"\n",
              "     width=\"24px\">\n",
              "    <g>\n",
              "        <path d=\"M19 3H5c-1.1 0-2 .9-2 2v14c0 1.1.9 2 2 2h14c1.1 0 2-.9 2-2V5c0-1.1-.9-2-2-2zM9 17H7v-7h2v7zm4 0h-2V7h2v10zm4 0h-2v-4h2v4z\"/>\n",
              "    </g>\n",
              "</svg>\n",
              "  </button>\n",
              "\n",
              "<style>\n",
              "  .colab-df-quickchart {\n",
              "      --bg-color: #E8F0FE;\n",
              "      --fill-color: #1967D2;\n",
              "      --hover-bg-color: #E2EBFA;\n",
              "      --hover-fill-color: #174EA6;\n",
              "      --disabled-fill-color: #AAA;\n",
              "      --disabled-bg-color: #DDD;\n",
              "  }\n",
              "\n",
              "  [theme=dark] .colab-df-quickchart {\n",
              "      --bg-color: #3B4455;\n",
              "      --fill-color: #D2E3FC;\n",
              "      --hover-bg-color: #434B5C;\n",
              "      --hover-fill-color: #FFFFFF;\n",
              "      --disabled-bg-color: #3B4455;\n",
              "      --disabled-fill-color: #666;\n",
              "  }\n",
              "\n",
              "  .colab-df-quickchart {\n",
              "    background-color: var(--bg-color);\n",
              "    border: none;\n",
              "    border-radius: 50%;\n",
              "    cursor: pointer;\n",
              "    display: none;\n",
              "    fill: var(--fill-color);\n",
              "    height: 32px;\n",
              "    padding: 0;\n",
              "    width: 32px;\n",
              "  }\n",
              "\n",
              "  .colab-df-quickchart:hover {\n",
              "    background-color: var(--hover-bg-color);\n",
              "    box-shadow: 0 1px 2px rgba(60, 64, 67, 0.3), 0 1px 3px 1px rgba(60, 64, 67, 0.15);\n",
              "    fill: var(--button-hover-fill-color);\n",
              "  }\n",
              "\n",
              "  .colab-df-quickchart-complete:disabled,\n",
              "  .colab-df-quickchart-complete:disabled:hover {\n",
              "    background-color: var(--disabled-bg-color);\n",
              "    fill: var(--disabled-fill-color);\n",
              "    box-shadow: none;\n",
              "  }\n",
              "\n",
              "  .colab-df-spinner {\n",
              "    border: 2px solid var(--fill-color);\n",
              "    border-color: transparent;\n",
              "    border-bottom-color: var(--fill-color);\n",
              "    animation:\n",
              "      spin 1s steps(1) infinite;\n",
              "  }\n",
              "\n",
              "  @keyframes spin {\n",
              "    0% {\n",
              "      border-color: transparent;\n",
              "      border-bottom-color: var(--fill-color);\n",
              "      border-left-color: var(--fill-color);\n",
              "    }\n",
              "    20% {\n",
              "      border-color: transparent;\n",
              "      border-left-color: var(--fill-color);\n",
              "      border-top-color: var(--fill-color);\n",
              "    }\n",
              "    30% {\n",
              "      border-color: transparent;\n",
              "      border-left-color: var(--fill-color);\n",
              "      border-top-color: var(--fill-color);\n",
              "      border-right-color: var(--fill-color);\n",
              "    }\n",
              "    40% {\n",
              "      border-color: transparent;\n",
              "      border-right-color: var(--fill-color);\n",
              "      border-top-color: var(--fill-color);\n",
              "    }\n",
              "    60% {\n",
              "      border-color: transparent;\n",
              "      border-right-color: var(--fill-color);\n",
              "    }\n",
              "    80% {\n",
              "      border-color: transparent;\n",
              "      border-right-color: var(--fill-color);\n",
              "      border-bottom-color: var(--fill-color);\n",
              "    }\n",
              "    90% {\n",
              "      border-color: transparent;\n",
              "      border-bottom-color: var(--fill-color);\n",
              "    }\n",
              "  }\n",
              "</style>\n",
              "\n",
              "  <script>\n",
              "    async function quickchart(key) {\n",
              "      const quickchartButtonEl =\n",
              "        document.querySelector('#' + key + ' button');\n",
              "      quickchartButtonEl.disabled = true;  // To prevent multiple clicks.\n",
              "      quickchartButtonEl.classList.add('colab-df-spinner');\n",
              "      try {\n",
              "        const charts = await google.colab.kernel.invokeFunction(\n",
              "            'suggestCharts', [key], {});\n",
              "      } catch (error) {\n",
              "        console.error('Error during call to suggestCharts:', error);\n",
              "      }\n",
              "      quickchartButtonEl.classList.remove('colab-df-spinner');\n",
              "      quickchartButtonEl.classList.add('colab-df-quickchart-complete');\n",
              "    }\n",
              "    (() => {\n",
              "      let quickchartButtonEl =\n",
              "        document.querySelector('#df-fb169fa9-3367-4637-9f75-45f4e0977311 button');\n",
              "      quickchartButtonEl.style.display =\n",
              "        google.colab.kernel.accessAllowed ? 'block' : 'none';\n",
              "    })();\n",
              "  </script>\n",
              "</div>\n",
              "    </div>\n",
              "  </div>\n"
            ],
            "text/plain": [
              "                                          clean_text  label\n",
              "0  TheSocialDilemma is an eye opener isn t it ple...      0\n",
              "1  TheSocialDilemma If we don t agree on what is ...      1"
            ]
          },
          "execution_count": 16,
          "metadata": {},
          "output_type": "execute_result"
        }
      ],
      "source": [
        "df_train = df_train[['clean_text', 'label']]\n",
        "df_train.head(2)"
      ]
    },
    {
      "cell_type": "code",
      "execution_count": null,
      "metadata": {
        "colab": {
          "base_uri": "https://localhost:8080/"
        },
        "id": "phJcuG9oC5xq",
        "outputId": "27723770-2532-40c9-c6a1-44d12c9ffe9c"
      },
      "outputs": [
        {
          "data": {
            "text/plain": [
              "clean_text    8\n",
              "label         0\n",
              "dtype: int64"
            ]
          },
          "execution_count": 17,
          "metadata": {},
          "output_type": "execute_result"
        }
      ],
      "source": [
        "# Check for missing value\n",
        "df_train.isnull().sum()"
      ]
    },
    {
      "cell_type": "code",
      "execution_count": null,
      "metadata": {
        "colab": {
          "base_uri": "https://localhost:8080/"
        },
        "id": "nB3M3FI5DD8o",
        "outputId": "ca3dff97-b54a-41e7-9a98-987c3bd6fb20"
      },
      "outputs": [
        {
          "data": {
            "text/plain": [
              "clean_text    0\n",
              "label         0\n",
              "dtype: int64"
            ]
          },
          "execution_count": 18,
          "metadata": {},
          "output_type": "execute_result"
        }
      ],
      "source": [
        "# drop missing rows\n",
        "df_train = df_train.dropna()\n",
        "df_train.isnull().sum()"
      ]
    },
    {
      "cell_type": "code",
      "execution_count": null,
      "metadata": {
        "colab": {
          "base_uri": "https://localhost:8080/"
        },
        "id": "YArE2MfEDSgS",
        "outputId": "87bb71a4-6096-4fd9-89d7-65c05e09e2d2"
      },
      "outputs": [
        {
          "name": "stdout",
          "output_type": "stream",
          "text": [
            "<class 'pandas.core.frame.DataFrame'>\n",
            "Int64Index: 16992 entries, 0 to 16999\n",
            "Data columns (total 2 columns):\n",
            " #   Column      Non-Null Count  Dtype \n",
            "---  ------      --------------  ----- \n",
            " 0   clean_text  16992 non-null  object\n",
            " 1   label       16992 non-null  int64 \n",
            "dtypes: int64(1), object(1)\n",
            "memory usage: 398.2+ KB\n"
          ]
        }
      ],
      "source": [
        "df_train.info()"
      ]
    },
    {
      "cell_type": "code",
      "execution_count": null,
      "metadata": {
        "colab": {
          "base_uri": "https://localhost:8080/"
        },
        "id": "Z-3mYIOcDbEd",
        "outputId": "46467662-1c12-4b1f-afa0-5e221b7c7d26"
      },
      "outputs": [
        {
          "data": {
            "text/plain": [
              "<_TensorSliceDataset element_spec=(TensorSpec(shape=(), dtype=tf.string, name=None), TensorSpec(shape=(), dtype=tf.int32, name=None))>"
            ]
          },
          "execution_count": 20,
          "metadata": {},
          "output_type": "execute_result"
        }
      ],
      "source": [
        "# convert training dataset into tensorflow dataset format\n",
        "train_dataset = (\n",
        "    tf.data.Dataset.from_tensor_slices(\n",
        "        (tf.cast(df_train[\"clean_text\"].values, tf.string),\n",
        "         tf.cast(df_train[\"label\"].values, tf.int32)\n",
        "\n",
        "        )\n",
        "    )\n",
        "\n",
        "\n",
        ")\n",
        "\n",
        "train_dataset"
      ]
    },
    {
      "cell_type": "code",
      "execution_count": null,
      "metadata": {
        "colab": {
          "base_uri": "https://localhost:8080/"
        },
        "id": "2pUzB0fj7a97",
        "outputId": "1a0504cb-c8d8-47a5-dd24-a2543c223fca"
      },
      "outputs": [
        {
          "name": "stdout",
          "output_type": "stream",
          "text": [
            "example : b'TheSocialDilemma is an eye opener isn t it please ignore the irony of me tweeting about it'\n",
            "label : 0\n",
            "example : b'TheSocialDilemma If we don t agree on what is true or that there is such a thing as truth we re toast This is'\n",
            "label : 1\n",
            "example : b'Watching TheSocialDilemma scary to see social media is fucking up the mental health of Gen X'\n",
            "label : 2\n",
            "example : b'You check your social media before you pee in the morning or whilst you are peeing Those are only 2 choices you ha'\n",
            "label : 1\n",
            "example : b'watch thesocialdilemma and see what s actually going on And share it s scary but 100 true'\n",
            "label : 2\n"
          ]
        }
      ],
      "source": [
        "# print first 5 record from train dataset\n",
        "for example, label in train_dataset.take(5):\n",
        "  print(\"example :\", example.numpy())\n",
        "  print(\"label :\", label.numpy())"
      ]
    },
    {
      "cell_type": "code",
      "execution_count": null,
      "metadata": {
        "colab": {
          "base_uri": "https://localhost:8080/"
        },
        "id": "xOdSxsDdEmO5",
        "outputId": "4be2ce47-0013-4ff5-9bc0-9dd94b89bb4d"
      },
      "outputs": [
        {
          "name": "stdout",
          "output_type": "stream",
          "text": [
            "Hello World\n",
            "tf.Tensor(b'Hello World', shape=(), dtype=string)\n"
          ]
        }
      ],
      "source": [
        "a = \"Hello World\"\n",
        "abc = tf.constant(\"Hello World\")\n",
        "print(a)\n",
        "print(abc)"
      ]
    },
    {
      "cell_type": "code",
      "execution_count": null,
      "metadata": {
        "colab": {
          "base_uri": "https://localhost:8080/"
        },
        "id": "ONcRRsd1FYLL",
        "outputId": "147dd114-f55b-4aa4-e75d-59629586c48b"
      },
      "outputs": [
        {
          "name": "stdout",
          "output_type": "stream",
          "text": [
            "tf.Tensor(\n",
            "[[b'Hello World' b'Hello World']\n",
            " [b'Hello World' b'Hello World']\n",
            " [b'Hello World' b'Hello World']\n",
            " [b'Hello World' b'Hello World']\n",
            " [b'Hello World' b'Hello World']\n",
            " [b'Hello World' b'Hello World']], shape=(6, 2), dtype=string)\n"
          ]
        }
      ],
      "source": [
        "hello = tf.constant(\"Hello World\", shape=[6,2])\n",
        "print(hello)"
      ]
    },
    {
      "cell_type": "code",
      "execution_count": null,
      "metadata": {
        "id": "yiCUEzOMFwxC"
      },
      "outputs": [],
      "source": [
        "# just an example"
      ]
    },
    {
      "cell_type": "code",
      "execution_count": null,
      "metadata": {
        "id": "F4TQBCVG7bBH"
      },
      "outputs": [],
      "source": [
        "BUFFER_SIZE= 10000\n",
        "BATCH_SIZE = 64"
      ]
    },
    {
      "cell_type": "code",
      "execution_count": null,
      "metadata": {
        "id": "9_gKyCpVGN3j"
      },
      "outputs": [],
      "source": [
        "# create batches of the dataset\n",
        "train_dataset = train_dataset.shuffle(BUFFER_SIZE).batch(BATCH_SIZE).prefetch(tf.data.AUTOTUNE)"
      ]
    },
    {
      "cell_type": "code",
      "execution_count": null,
      "metadata": {
        "colab": {
          "base_uri": "https://localhost:8080/"
        },
        "id": "iWxy5qffGcPx",
        "outputId": "5693cd20-623d-4c66-d995-c75fdabc0eed"
      },
      "outputs": [
        {
          "name": "stdout",
          "output_type": "stream",
          "text": [
            "example : [b'the world is beautiful look it s great out there No better way to end it TheSocialDilemma'\n",
            " b'You are watching TheSocialDilemma on a platform that is known for giving you dopamine hits Netflix'\n",
            " b'Watch TheSocialDilemma on Netflix I m begging you'\n",
            " b'Netflix s TheSocialDilemma is just an international version of Ravish Kumars Prime Time'\n",
            " b'My biggest takeaway from TheSocialDilemma Social Justice Warriors I m sorry for blaming you for obsessing It s'\n",
            " b'Watch for this night TheSocialDilemma Starting now'\n",
            " b'So I just watched The Social Dilemma on Netflix and it made me want to delete the Facebook app again But instead'\n",
            " b'Twitchy Watch the movie TheSocialDilemma And you will want to go back to a rotary phone'\n",
            " b'I have been waiting this for a long time TheSocialDilemma'\n",
            " b'Well TheSocialDilemma just effed me right up'\n",
            " b'Watching TheSocialDilemma Its wild how half of this is genuinely intriguing and the other half is this contrived pointless dramatization'\n",
            " b'TheSocialDilemma on Netflix watch it It s so easy to bash people s opinions online when in reality that s prob'\n",
            " b'Please i beg you in whatever you do however busy you are create time to see TheSocialDilemma today or ASAP'\n",
            " b'Watching TheSocialDilemma made me want to take a break from social media'\n",
            " b'Subscribe wherever you enjoy podcast BlerdPodcast Podcast TheBoys TheBoysS2 Fuckthefuckpig'\n",
            " b'There are only two industries that call their customers USERS illegal drugs and SOFTWARE TheSocialDilemma Netflix documentary'\n",
            " b'Before we could relish the benefits from personalization of content we are being dragged towards polarization beca'\n",
            " b'Before you get in your next fight on Twitter or Facebook you need to watch The Social Dilemma I m officially scar'\n",
            " b'Watched TheSocialDilemma and it puts good arguments as to why we need to monitor our screen time minimalism'\n",
            " b'Also are we not going to acknowledge that TheSocialDilemma is talking about current topics such as COVID 19 and'\n",
            " b'How do you wake up from the matrix when you don t know you re in the matrix Netflix TheSocialDilemma'\n",
            " b'The Social Dilemma Corporate Interests in a Radical s Clothing socialdilemmanetflix Netflix MovieReview'\n",
            " b'Currently watching TheSocialDilemma the nerd in me is fulfilled and content'\n",
            " b'If twitter has this much power over what articles information is allowed due to their rules inconsistently enforce'\n",
            " b'The Social Diatribe Professor Mary Aiken watches TheSocialDilemma a offering on the impact o'\n",
            " b'I knew that marketing and tech is manipulative but the extent of it is mind boggling And here I am tweeting about'\n",
            " b'Never before 50 white guys in California made decisions that would have an impact on two billion people The'\n",
            " b'Staggering that people like this are real TheSocialDilemma'\n",
            " b'10 10 would recommend TheSocialDilemma on Netflix'\n",
            " b'The problem with interviewing Silicon Valley Insiders for TheSocialDilemma is that they re insiders Don t be fo'\n",
            " b'watches TheSocialDilemma on netflix once'\n",
            " b'We re training and conditioning a whole new generation of people that when we are uncomfortable or lonely or uncer'\n",
            " b'Just started TheSocialDilemma I wonder if I ll be more inclined to get rid of social media after this'\n",
            " b'The Social Dilemma A Netflix documentary is a MUST MUST MUST watch for everyone TheSocialDilemma netflix Mustwatch'\n",
            " b'If you haven t already watched TheSocialDilemma I cannot stress enough how important it is that you do And I rec'\n",
            " b'Algorithms are opinions embedded in code TheSocialDilemma'\n",
            " b'Vallet Kawa I tried to solve the SocialDilemma by develop'\n",
            " b're TheSocialDilemma this thread pushes back on the narrative of the film and it s is super interesting to give'\n",
            " b'After watching TheSocialDilemma my mind has been completely blown I couldn t believe I was spending that much tim'\n",
            " b'TheSocialDilemma a must for everyone to watch The classic Netflix documentary will take you closer to the algor'\n",
            " b'Everything we are doing online is being watched is being tracked and is being measured Every single action we tak'\n",
            " b'People upset with PS4UPDATE clearly haven t seen TheSocialDilemma and it shows So you don t like them recordi'\n",
            " b'Have you checked out TheSocialDilemma on It just recently debuted and offers'\n",
            " b'Finishing watching the social dilemma and Netflix recommends me movies to watch next YOU RE NOT TELLING ME WHAT T'\n",
            " b'A great documantary from about the dark side of Social Media Reasons why I think about to delete all my s'\n",
            " b'TheSocialDilemma Watch it'\n",
            " b'Combine this with TheSocialDilemma and we re really screwed if people keep plugging in for their information'\n",
            " b'Real Fly This civil war brought to you by and TheSocialDilemma'\n",
            " b'If you re not paying for a product then you are the product TheSocialDilemma Netflix'\n",
            " b'I d highly recommend giving The Social Dilemma a watch on netflix In my day job I work in social media and was sti'\n",
            " b'watch thesocialdilemma and see what s actually going on And share it s scary but 100 true'\n",
            " b'I vote BritneySpears for TheSocialDilemma at the PCAs'\n",
            " b'You have a duty to warn TheSocialDilemma'\n",
            " b'Just had that ah ha moment Trump tweets are all part of the power and control movement to take our democracy Watch TheSocialDilemma'\n",
            " b'TheSocialDilemma If we don t agree on what is true or that there is such a thing as truth we re toast This is'\n",
            " b'Watched the social dilemma Omg this is really eye opening experience TheSocialDilemma'\n",
            " b'After TheSocialDilemma we also need a series to tell us about the political polarization through social media in India'\n",
            " b'I updated my list of resource about Facebook s impact The most important article to pa'\n",
            " b'TheSocialDilemma on Highly recommended'\n",
            " b'Most of the interviewees featured on TheSocialDilemma'\n",
            " b'TheSocialDilemma was hideous These critics don t point to the right problem and just make people who are advocat'\n",
            " b'IF YOU RE NOT PAYING FOR THE PRODUCT THEN YOU ARE THE PRODUCT TheSocialDilemma'\n",
            " b'CancelNetflix opps world trending bye Netflix TheSocialDilemma'\n",
            " b'Now watching TheSocialDilemma']\n",
            "****************************\n",
            "label : [1 0 0 0 2 0 1 0 2 1 2 1 1 1 1 2 0 1 1 0 0 1 0 1 1 0 0 0 0 0 0 2 1 1 1 0 0\n",
            " 1 1 1 1 1 0 1 1 0 1 0 0 1 2 0 0 0 1 1 1 1 1 1 1 0 0 0]\n",
            "****************************\n",
            "total len : 64\n"
          ]
        }
      ],
      "source": [
        "for example, label in train_dataset.take(1):\n",
        "  print(\"example :\", example.numpy())\n",
        "  print(\"****************************\")\n",
        "  print(\"label :\", label.numpy())\n",
        "  print(\"****************************\")\n",
        "  print(\"total len :\", len(label.numpy()))"
      ]
    },
    {
      "cell_type": "code",
      "execution_count": null,
      "metadata": {
        "id": "tBMQdRxgGwBs"
      },
      "outputs": [],
      "source": [
        "# creating training and validation split\n",
        "val_dataset = train_dataset.take(100)\n",
        "train_dataset = train_dataset.skip(100)"
      ]
    },
    {
      "cell_type": "code",
      "execution_count": null,
      "metadata": {
        "colab": {
          "base_uri": "https://localhost:8080/"
        },
        "id": "IWpiP3FI7bEi",
        "outputId": "44f01ec2-a461-42d4-adf9-16519686040c"
      },
      "outputs": [
        {
          "data": {
            "text/plain": [
              "<_TakeDataset element_spec=(TensorSpec(shape=(None,), dtype=tf.string, name=None), TensorSpec(shape=(None,), dtype=tf.int32, name=None))>"
            ]
          },
          "execution_count": 28,
          "metadata": {},
          "output_type": "execute_result"
        }
      ],
      "source": [
        "val_dataset"
      ]
    },
    {
      "cell_type": "code",
      "execution_count": null,
      "metadata": {
        "colab": {
          "base_uri": "https://localhost:8080/"
        },
        "id": "PB6c94sh7bHp",
        "outputId": "e8fbdc16-dc23-4351-cb6f-d08385180135"
      },
      "outputs": [
        {
          "data": {
            "text/plain": [
              "array(['', '[UNK]', 'thesocialdilemma', 'the', 'i', 'to', 'on', 'and',\n",
              "       'you', 'a', 'is', 'it', 'social', 'watch', 'of', 'netflix', 's',\n",
              "       'this', 'media', 'for'], dtype='<U16')"
            ]
          },
          "execution_count": 29,
          "metadata": {},
          "output_type": "execute_result"
        }
      ],
      "source": [
        "# Create the text encoder\n",
        "\n",
        "VOCAB_SIZE = 1000\n",
        "encoder = keras.layers.experimental.preprocessing.TextVectorization(max_tokens=VOCAB_SIZE)\n",
        "encoder.adapt(train_dataset.map(lambda text, label: text))\n",
        "\n",
        "vocab = np.array(encoder.get_vocabulary())\n",
        "vocab[0:20]"
      ]
    },
    {
      "cell_type": "code",
      "execution_count": null,
      "metadata": {
        "colab": {
          "base_uri": "https://localhost:8080/"
        },
        "id": "wX9IR97iJXAl",
        "outputId": "354ec692-b9b2-4c24-f392-fd3733d9d7ae"
      },
      "outputs": [
        {
          "data": {
            "text/plain": [
              "array([ 17,   1,  10,   9, 898,   1])"
            ]
          },
          "execution_count": 30,
          "metadata": {},
          "output_type": "execute_result"
        }
      ],
      "source": [
        "encoded_example = encoder(\"This pen is a nice pen\").numpy()\n",
        "encoded_example"
      ]
    },
    {
      "cell_type": "code",
      "execution_count": null,
      "metadata": {
        "id": "Q8ZNzh4ZKpdQ"
      },
      "outputs": [],
      "source": [
        "# Defining RNN model architecture\n",
        "\n",
        "model = keras.Sequential([\n",
        "    encoder, keras.layers.Embedding(input_dim = len(encoder.get_vocabulary()), output_dim=64, mask_zero=True),\n",
        "    keras.layers.SimpleRNN(64),\n",
        "    keras.layers.Dense(64, activation='relu'),\n",
        "    keras.layers.Dense(3, activation='softmax')]\n",
        "\n",
        ")"
      ]
    },
    {
      "cell_type": "code",
      "execution_count": null,
      "metadata": {
        "id": "BHxQy70TJXEj"
      },
      "outputs": [],
      "source": [
        "# Compiling RNN Model\n",
        "model.compile(optimizer='adam', loss='sparse_categorical_crossentropy', metrics=['accuracy'])"
      ]
    },
    {
      "cell_type": "code",
      "execution_count": null,
      "metadata": {
        "colab": {
          "base_uri": "https://localhost:8080/"
        },
        "id": "8Jirkz7vNDTB",
        "outputId": "9ea21378-cc90-4ac7-d6fc-9d45e22e8d1e"
      },
      "outputs": [
        {
          "name": "stdout",
          "output_type": "stream",
          "text": [
            "Epoch 1/25\n",
            "166/166 [==============================] - 27s 113ms/step - loss: 0.7995 - accuracy: 0.6552 - val_loss: 0.5207 - val_accuracy: 0.8070\n",
            "Epoch 2/25\n",
            "166/166 [==============================] - 11s 66ms/step - loss: 0.4611 - accuracy: 0.8339 - val_loss: 0.3613 - val_accuracy: 0.8797\n",
            "Epoch 3/25\n",
            "166/166 [==============================] - 9s 57ms/step - loss: 0.3742 - accuracy: 0.8740 - val_loss: 0.3238 - val_accuracy: 0.8914\n",
            "Epoch 4/25\n",
            "166/166 [==============================] - 9s 55ms/step - loss: 0.3223 - accuracy: 0.8939 - val_loss: 0.3123 - val_accuracy: 0.8955\n",
            "Epoch 5/25\n",
            "166/166 [==============================] - 13s 74ms/step - loss: 0.2841 - accuracy: 0.9039 - val_loss: 0.2418 - val_accuracy: 0.9237\n",
            "Epoch 6/25\n",
            "166/166 [==============================] - 9s 52ms/step - loss: 0.2583 - accuracy: 0.9147 - val_loss: 0.2223 - val_accuracy: 0.9270\n",
            "Epoch 7/25\n",
            "166/166 [==============================] - 8s 50ms/step - loss: 0.2266 - accuracy: 0.9250 - val_loss: 0.2009 - val_accuracy: 0.9402\n",
            "Epoch 8/25\n",
            "166/166 [==============================] - 9s 55ms/step - loss: 0.1902 - accuracy: 0.9393 - val_loss: 0.1674 - val_accuracy: 0.9519\n",
            "Epoch 9/25\n",
            "166/166 [==============================] - 10s 61ms/step - loss: 0.1677 - accuracy: 0.9438 - val_loss: 0.1456 - val_accuracy: 0.9530\n",
            "Epoch 10/25\n",
            "166/166 [==============================] - 10s 62ms/step - loss: 0.1474 - accuracy: 0.9554 - val_loss: 0.1248 - val_accuracy: 0.9623\n",
            "Epoch 11/25\n",
            "166/166 [==============================] - 8s 45ms/step - loss: 0.1292 - accuracy: 0.9594 - val_loss: 0.1000 - val_accuracy: 0.9695\n",
            "Epoch 12/25\n",
            "166/166 [==============================] - 9s 55ms/step - loss: 0.1149 - accuracy: 0.9625 - val_loss: 0.1173 - val_accuracy: 0.9652\n",
            "Epoch 13/25\n",
            "166/166 [==============================] - 10s 58ms/step - loss: 0.1138 - accuracy: 0.9629 - val_loss: 0.0993 - val_accuracy: 0.9689\n",
            "Epoch 14/25\n",
            "166/166 [==============================] - 8s 45ms/step - loss: 0.0969 - accuracy: 0.9686 - val_loss: 0.0925 - val_accuracy: 0.9670\n",
            "Epoch 15/25\n",
            "166/166 [==============================] - 10s 61ms/step - loss: 0.0912 - accuracy: 0.9684 - val_loss: 0.0747 - val_accuracy: 0.9778\n",
            "Epoch 16/25\n",
            "166/166 [==============================] - 9s 53ms/step - loss: 0.0709 - accuracy: 0.9769 - val_loss: 0.0583 - val_accuracy: 0.9830\n",
            "Epoch 17/25\n",
            "166/166 [==============================] - 9s 52ms/step - loss: 0.0787 - accuracy: 0.9738 - val_loss: 0.0747 - val_accuracy: 0.9764\n",
            "Epoch 18/25\n",
            "166/166 [==============================] - 8s 47ms/step - loss: 0.0678 - accuracy: 0.9783 - val_loss: 0.0610 - val_accuracy: 0.9808\n",
            "Epoch 19/25\n",
            "166/166 [==============================] - 9s 55ms/step - loss: 0.0543 - accuracy: 0.9832 - val_loss: 0.0382 - val_accuracy: 0.9884\n",
            "Epoch 20/25\n",
            "166/166 [==============================] - 9s 52ms/step - loss: 0.0579 - accuracy: 0.9810 - val_loss: 0.0819 - val_accuracy: 0.9702\n",
            "Epoch 21/25\n",
            "166/166 [==============================] - 9s 55ms/step - loss: 0.0470 - accuracy: 0.9844 - val_loss: 0.0432 - val_accuracy: 0.9870\n",
            "Epoch 22/25\n",
            "166/166 [==============================] - 8s 46ms/step - loss: 0.0477 - accuracy: 0.9832 - val_loss: 0.0558 - val_accuracy: 0.9794\n",
            "Epoch 23/25\n",
            "166/166 [==============================] - 8s 46ms/step - loss: 0.0558 - accuracy: 0.9806 - val_loss: 0.0489 - val_accuracy: 0.9850\n",
            "Epoch 24/25\n",
            "166/166 [==============================] - 9s 54ms/step - loss: 0.0519 - accuracy: 0.9820 - val_loss: 0.0471 - val_accuracy: 0.9858\n",
            "Epoch 25/25\n",
            "166/166 [==============================] - 8s 46ms/step - loss: 0.0627 - accuracy: 0.9789 - val_loss: 0.0486 - val_accuracy: 0.9836\n"
          ]
        }
      ],
      "source": [
        "# Training our model\n",
        "\n",
        "EPOCHS = 25\n",
        "result = model.fit(train_dataset, epochs=EPOCHS, validation_data=val_dataset)"
      ]
    },
    {
      "cell_type": "code",
      "execution_count": null,
      "metadata": {
        "colab": {
          "base_uri": "https://localhost:8080/"
        },
        "id": "IsvHCREgJXIR",
        "outputId": "c147ceaf-42ed-4535-9ddc-acfed3aac7ae"
      },
      "outputs": [
        {
          "name": "stdout",
          "output_type": "stream",
          "text": [
            "166/166 [==============================] - 2s 9ms/step - loss: 0.0361 - accuracy: 0.9889\n"
          ]
        }
      ],
      "source": [
        "# evaluating model\n",
        "test_loss , test_acc = model.evaluate(train_dataset)"
      ]
    },
    {
      "cell_type": "code",
      "execution_count": null,
      "metadata": {
        "colab": {
          "base_uri": "https://localhost:8080/"
        },
        "id": "OUNTDYQcQPno",
        "outputId": "16a06113-2085-4449-851b-b53b52b1ba3c"
      },
      "outputs": [
        {
          "name": "stdout",
          "output_type": "stream",
          "text": [
            "Test Loss 0.0361470952630043\n",
            "Test Accuracy : 0.9888595342636108\n"
          ]
        }
      ],
      "source": [
        "print(\"Test Loss {}\".format(test_loss))\n",
        "print(\"Test Accuracy : {}\".format(test_acc))"
      ]
    },
    {
      "cell_type": "code",
      "execution_count": null,
      "metadata": {
        "colab": {
          "base_uri": "https://localhost:8080/",
          "height": 723
        },
        "id": "igT_nICEQhb8",
        "outputId": "b8d739ba-aa89-4ffd-9094-245b823b503c"
      },
      "outputs": [
        {
          "data": {
            "image/png": "[encoded data removed]",
            "text/plain": [
              "<Figure size 1000x800 with 1 Axes>"
            ]
          },
          "metadata": {},
          "output_type": "display_data"
        }
      ],
      "source": [
        "# Plot the training and validation loss\n",
        "N = np.arange(0, EPOCHS)\n",
        "plt.style.use(\"ggplot\")\n",
        "plt.figure(figsize= [10, 8])\n",
        "plt.plot(N, result.history[\"loss\"], label='train_loss')\n",
        "plt.plot(N, result.history[\"val_loss\"], label='val_loss')\n",
        "plt.title(\"RNN : Training vs Validation Loss\")\n",
        "plt.xlabel(\"Epoch #\", weight ='bold')\n",
        "plt.ylabel(\"Loss\", weight ='bold')\n",
        "plt.legend()\n",
        "plt.show()"
      ]
    },
    {
      "cell_type": "code",
      "execution_count": null,
      "metadata": {
        "colab": {
          "base_uri": "https://localhost:8080/",
          "height": 720
        },
        "id": "iLaP2YV4RXVn",
        "outputId": "76524c91-0c7a-4a48-ce91-6690ed5be844"
      },
      "outputs": [
        {
          "data": {
            "image/png": "[encoded data removed]",
            "text/plain": [
              "<Figure size 1000x800 with 1 Axes>"
            ]
          },
          "metadata": {},
          "output_type": "display_data"
        }
      ],
      "source": [
        "# Plot the training and validation loss\n",
        "N = np.arange(0, EPOCHS)\n",
        "plt.style.use(\"ggplot\")\n",
        "plt.figure(figsize= [10, 8])\n",
        "plt.plot(N, result.history[\"accuracy\"], label='train_accuracy')\n",
        "plt.plot(N, result.history[\"val_accuracy\"], label='val_accuracy')\n",
        "plt.title(\"RNN : Training vs Validation Accuracy\")\n",
        "plt.xlabel(\"Epoch #\", weight ='bold')\n",
        "plt.ylabel(\"Accuracy\", weight ='bold')\n",
        "plt.legend()\n",
        "plt.show()"
      ]
    },
    {
      "cell_type": "code",
      "execution_count": null,
      "metadata": {
        "colab": {
          "base_uri": "https://localhost:8080/"
        },
        "id": "rToN-myVJXL4",
        "outputId": "b92400bd-5403-4a05-cdd2-ac08748c5067"
      },
      "outputs": [
        {
          "name": "stdout",
          "output_type": "stream",
          "text": [
            "1/1 [==============================] - 0s 24ms/step\n",
            "[[6.3156115e-08 9.9984312e-01 1.5673898e-04]]\n",
            "Positive\n"
          ]
        }
      ],
      "source": [
        "# Predict on a sample text\n",
        "\n",
        "sample_text = (\"The movie was Good, I would recommend this movie. Please go and watch, it's worth it to watch.\")\n",
        "\n",
        "prediction = model.predict(np.array([sample_text]))\n",
        "print(prediction)\n",
        "\n",
        "# add final prediction to dataframe\n",
        "\n",
        "if np.argmax(prediction) == 0:\n",
        "  print(\"Neutral\")\n",
        "elif np.argmax(prediction) == 1:\n",
        "  print(\"Positive\")\n",
        "else:\n",
        "  print(\"Negative\")"
      ]
    },
    {
      "cell_type": "code",
      "execution_count": null,
      "metadata": {
        "colab": {
          "base_uri": "https://localhost:8080/"
        },
        "id": "HLyJ_HmESMom",
        "outputId": "2f566fc4-7738-4fbc-a33e-54f370f685bb"
      },
      "outputs": [
        {
          "name": "stdout",
          "output_type": "stream",
          "text": [
            "1/1 [==============================] - 0s 21ms/step\n",
            "[[3.9755137e-06 9.9970967e-01 2.8632506e-04]]\n",
            "Positive\n"
          ]
        }
      ],
      "source": [
        "sample_text = (\"This movie was not Good. Please don't waste your time and money.\")\n",
        "\n",
        "prediction = model.predict(np.array([sample_text]))\n",
        "print(prediction)\n",
        "\n",
        "# add final prediction to dataframe\n",
        "\n",
        "if np.argmax(prediction) == 0:\n",
        "  print(\"Neutral\")\n",
        "elif np.argmax(prediction) == 1:\n",
        "  print(\"Positive\")\n",
        "else:\n",
        "  print(\"Negative\")"
      ]
    }
  ]
}